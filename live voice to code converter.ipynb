{
 "cells": [
  {
   "cell_type": "code",
   "execution_count": 130,
   "id": "6968741a",
   "metadata": {},
   "outputs": [],
   "source": [
    "import speech_recognition as sr"
   ]
  },
  {
   "cell_type": "code",
   "execution_count": 131,
   "id": "25a8e231",
   "metadata": {},
   "outputs": [],
   "source": [
    "# initialize the recognizer\n",
    "r = sr.Recognizer()"
   ]
  },
  {
   "cell_type": "code",
   "execution_count": 301,
   "id": "16f56204",
   "metadata": {},
   "outputs": [
    {
     "name": "stdout",
     "output_type": "stream",
     "text": [
      "factorial of 8\n"
     ]
    }
   ],
   "source": [
    "with sr.Microphone() as source:\n",
    "    # read the audio data from the default microphone\n",
    "    audio_data = r.record(source, duration=5)\n",
    "    #print(\"Recognizing...\")\n",
    "    # convert speech to text\n",
    "    text = r.recognize_google(audio_data)\n",
    "    print(text)"
   ]
  },
  {
   "cell_type": "code",
   "execution_count": 302,
   "id": "ec8971af",
   "metadata": {},
   "outputs": [],
   "source": [
    "import numpy as np\n",
    "import pandas as pd\n",
    "import os\n",
    "import plotly.express as px\n",
    "import matplotlib.pyplot as plt\n",
    "import seaborn as sns\n",
    "pd.options.plotting.backend = 'plotly'  \n",
    "import operator\n",
    "import re"
   ]
  },
  {
   "cell_type": "code",
   "execution_count": 303,
   "id": "0a89c2e2",
   "metadata": {},
   "outputs": [],
   "source": [
    "def library():\n",
    "    print('import pandas as pd') \n",
    "    print('import numpy as np') \n",
    "    print('import os') \n",
    "    print('import plotly.express as px') \n",
    "    print('import matplotlib.pyplot as plt') \n",
    "    print('import seaborn as sns')\n",
    "    return "
   ]
  },
  {
   "cell_type": "code",
   "execution_count": 304,
   "id": "3322a3d1",
   "metadata": {},
   "outputs": [],
   "source": [
    "def addition():\n",
    "  # Variable for storing the sum\n",
    "  a = 0\n",
    " \n",
    "  # Iterating through the content\n",
    "  # Of the file\n",
    "  for line in text:\n",
    "    for i in line:\n",
    "      # Checking for the digit in\n",
    "      # the string\n",
    "        if i.isdigit() == True:\n",
    "            a += int(i)\n",
    "  print(\"The sum is:\", a)"
   ]
  },
  {
   "cell_type": "code",
   "execution_count": null,
   "id": "009d3eda",
   "metadata": {},
   "outputs": [],
   "source": []
  },
  {
   "cell_type": "code",
   "execution_count": 305,
   "id": "6908643c",
   "metadata": {},
   "outputs": [],
   "source": [
    "def arithmetic():\n",
    "    s = re.sub(r'[^\\w]', ' ', text)\n",
    "    s = s.replace(\"into\", \"\")\n",
    "    s = s.replace(\"by\", \"\")\n",
    "    s = s.replace(\"minus\", \"\")\n",
    "    s = s.replace(\"of\", \"\")\n",
    "    r = s.split()\n",
    "    op, arg1, arg2 = r\n",
    "    arg1 = float(arg1)\n",
    "    arg2 = float(arg2)\n",
    "    operations = {'add': operator.add,\n",
    "              'addition' : operator.add,\n",
    "              'sub' : operator.sub,\n",
    "              'subtract': operator.sub,\n",
    "              'mul': operator.mul,\n",
    "              'multiply': operator.mul,\n",
    "              'division': operator.truediv,\n",
    "              'divide': operator.truediv,\n",
    "              'exponent' : operator.pow,\n",
    "              'modulo' : operator.mod}\n",
    "    if op in operations:\n",
    "        result = operations[op](arg1, arg2)\n",
    "        print(result)\n",
    "    else:\n",
    "        print('Invalid operation: {}'.format(op))"
   ]
  },
  {
   "cell_type": "code",
   "execution_count": 306,
   "id": "a09dbf54",
   "metadata": {},
   "outputs": [],
   "source": [
    "def factorialno():\n",
    "    n = int(''.join(filter(str.isdigit, text)))\n",
    "    if n < 0:\n",
    "        return 0\n",
    "    elif n == 0 or n == 1:\n",
    "        return 1\n",
    "    else:\n",
    "        fact = 1\n",
    "        while(n > 1):\n",
    "            fact *= n\n",
    "            n -= 1\n",
    "        return print(fact)"
   ]
  },
  {
   "cell_type": "code",
   "execution_count": 307,
   "id": "df4bda5c",
   "metadata": {},
   "outputs": [],
   "source": [
    "def fibonacci():\n",
    "    r = text\n",
    "    n = int(''.join(filter(str.isdigit, r)))\n",
    "    nterms = n\n",
    "\n",
    "    # first two terms\n",
    "    n1, n2 = 0, 1\n",
    "    count = 0\n",
    "\n",
    "    # check if the number of terms is valid\n",
    "    if nterms <= 0:\n",
    "        print(\"Please enter a positive integer\")\n",
    "    # if there is only one term, return n1\n",
    "    elif nterms == 1:\n",
    "        print(\"Fibonacci sequence upto\",nterms,\":\")\n",
    "        print(n1)\n",
    "    # generate fibonacci sequence\n",
    "    else:\n",
    "        print(\"Fibonacci sequence:\")\n",
    "        while count < nterms:\n",
    "            print(n1)\n",
    "            nth = n1 + n2\n",
    "            # update values\n",
    "            n1 = n2\n",
    "            n2 = nth\n",
    "            count += 1"
   ]
  },
  {
   "cell_type": "code",
   "execution_count": 308,
   "id": "fce6e21b",
   "metadata": {},
   "outputs": [],
   "source": [
    "def generate_code(query):\n",
    "    if operator.contains(query, \"library\"):\n",
    "        library()\n",
    "        return\n",
    "    elif operator.contains(query, \"libraries\"):\n",
    "        library()\n",
    "        return\n",
    "    elif operator.contains(query, \"add\"):\n",
    "        arithmetic()\n",
    "        return\n",
    "    elif operator.contains(query, \"addition\"):\n",
    "        arithmetic()\n",
    "        return\n",
    "    elif operator.contains(query, \"+\"):\n",
    "        arithmetic()\n",
    "        return\n",
    "    elif operator.contains(query, \"sub\"):\n",
    "        arithmetic()\n",
    "        return\n",
    "    elif operator.contains(query, \"subtract\"):\n",
    "        arithmetic()\n",
    "        return\n",
    "    elif operator.contains(query, \"multiply\"):\n",
    "        arithmetic()\n",
    "        return\n",
    "    elif operator.contains(query, \"into\"):\n",
    "        arithmetic()\n",
    "        return\n",
    "    elif operator.contains(query, \"divide\"):\n",
    "        arithmetic()\n",
    "        return\n",
    "    elif operator.contains(query, \"divide by\"):\n",
    "        arithmetic()\n",
    "        return\n",
    "    elif operator.contains(query, \"power of\"):\n",
    "        arithmetic()\n",
    "        return\n",
    "    elif operator.contains(query, \"power\"):\n",
    "        arithmetic()\n",
    "        return\n",
    "    elif operator.contains(query, \"modulo of\"):\n",
    "        arithmetic()\n",
    "        return\n",
    "    elif operator.contains(query, \"modulo\"):\n",
    "        arithmetic()\n",
    "        return\n",
    "    elif operator.contains(query, \"factorial\"):\n",
    "        factorialno()\n",
    "        return\n",
    "    elif operator.contains(query, \"Factorial\"):\n",
    "        factorialno()\n",
    "        return\n",
    "    elif operator.contains(query, \"fibonacci\"):\n",
    "        fibonacci()\n",
    "        return\n",
    "    elif operator.contains(query, \"Fibonacci\"):\n",
    "        fibonacci()\n",
    "        return\n",
    "    elif operator.contains(query, \"fibonacci series\"):\n",
    "        fibonacci()\n",
    "        return\n",
    "    elif operator.contains(query, \"install pandas\"):\n",
    "        libinstallpandas()\n",
    "        return\n",
    "    elif operator.contains(query, \"install numpy\"):\n",
    "        libinstallnumpy()\n",
    "        return "
   ]
  },
  {
   "cell_type": "code",
   "execution_count": 309,
   "id": "c87a42fa",
   "metadata": {},
   "outputs": [
    {
     "name": "stdout",
     "output_type": "stream",
     "text": [
      "40320\n"
     ]
    }
   ],
   "source": [
    "generate_code(text)"
   ]
  },
  {
   "cell_type": "code",
   "execution_count": null,
   "id": "e2a616e7",
   "metadata": {},
   "outputs": [],
   "source": []
  },
  {
   "cell_type": "code",
   "execution_count": null,
   "id": "2bc27a89",
   "metadata": {},
   "outputs": [],
   "source": []
  },
  {
   "cell_type": "code",
   "execution_count": null,
   "id": "ba8dee2d",
   "metadata": {},
   "outputs": [],
   "source": []
  },
  {
   "cell_type": "code",
   "execution_count": null,
   "id": "7e2f6708",
   "metadata": {},
   "outputs": [],
   "source": []
  },
  {
   "cell_type": "code",
   "execution_count": null,
   "id": "3bdfc720",
   "metadata": {},
   "outputs": [],
   "source": []
  },
  {
   "cell_type": "code",
   "execution_count": null,
   "id": "640acd4c",
   "metadata": {},
   "outputs": [],
   "source": []
  }
 ],
 "metadata": {
  "kernelspec": {
   "display_name": "Python 3 (ipykernel)",
   "language": "python",
   "name": "python3"
  },
  "language_info": {
   "codemirror_mode": {
    "name": "ipython",
    "version": 3
   },
   "file_extension": ".py",
   "mimetype": "text/x-python",
   "name": "python",
   "nbconvert_exporter": "python",
   "pygments_lexer": "ipython3",
   "version": "3.9.7"
  }
 },
 "nbformat": 4,
 "nbformat_minor": 5
}
